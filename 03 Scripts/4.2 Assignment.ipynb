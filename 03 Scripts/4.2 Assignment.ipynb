{
 "cells": [
  {
   "cell_type": "markdown",
   "id": "b3fe5318",
   "metadata": {},
   "source": [
    "# 01. Importing Libaries"
   ]
  },
  {
   "cell_type": "code",
   "execution_count": null,
   "id": "fa3f17e3",
   "metadata": {},
   "outputs": [],
   "source": [
    "# Import libraries\n",
    "import pandas as pd\n",
    "import numpy as np\n",
    "import os"
   ]
  },
  {
   "cell_type": "markdown",
   "id": "e99abd61",
   "metadata": {},
   "source": [
    "# 02. Data Types"
   ]
  },
  {
   "cell_type": "code",
   "execution_count": 2,
   "id": "f70fd7c7",
   "metadata": {},
   "outputs": [],
   "source": [
    "# Integers\n",
    "a = 100\n",
    "b = 0\n",
    "c = 25\n",
    "d = 75\n",
    "e = 50"
   ]
  },
  {
   "cell_type": "code",
   "execution_count": 3,
   "id": "5a0f2655",
   "metadata": {},
   "outputs": [
    {
     "data": {
      "text/plain": [
       "100"
      ]
     },
     "execution_count": 3,
     "metadata": {},
     "output_type": "execute_result"
    }
   ],
   "source": [
    "a + b"
   ]
  },
  {
   "cell_type": "code",
   "execution_count": 4,
   "id": "0275b491",
   "metadata": {},
   "outputs": [
    {
     "data": {
      "text/plain": [
       "100"
      ]
     },
     "execution_count": 4,
     "metadata": {},
     "output_type": "execute_result"
    }
   ],
   "source": [
    "c + d"
   ]
  },
  {
   "cell_type": "code",
   "execution_count": 5,
   "id": "7b7964e9",
   "metadata": {},
   "outputs": [
    {
     "data": {
      "text/plain": [
       "100"
      ]
     },
     "execution_count": 5,
     "metadata": {},
     "output_type": "execute_result"
    }
   ],
   "source": [
    "e + e"
   ]
  },
  {
   "cell_type": "code",
   "execution_count": 6,
   "id": "14c2277a",
   "metadata": {},
   "outputs": [],
   "source": [
    "# Floating\n",
    "f = 1.5\n",
    "g = 4.56"
   ]
  },
  {
   "cell_type": "code",
   "execution_count": 7,
   "id": "75651a1c",
   "metadata": {},
   "outputs": [
    {
     "data": {
      "text/plain": [
       "0.32894736842105265"
      ]
     },
     "execution_count": 7,
     "metadata": {},
     "output_type": "execute_result"
    }
   ],
   "source": [
    "f / g"
   ]
  },
  {
   "cell_type": "code",
   "execution_count": 8,
   "id": "575a991e",
   "metadata": {},
   "outputs": [],
   "source": [
    "# Strings\n",
    "h = \"Bat\"\n",
    "i = \"man\""
   ]
  },
  {
   "cell_type": "code",
   "execution_count": 9,
   "id": "0f63db6f",
   "metadata": {},
   "outputs": [
    {
     "data": {
      "text/plain": [
       "'Batman'"
      ]
     },
     "execution_count": 9,
     "metadata": {},
     "output_type": "execute_result"
    }
   ],
   "source": [
    "h + i"
   ]
  },
  {
   "cell_type": "code",
   "execution_count": 10,
   "id": "c64fc090",
   "metadata": {},
   "outputs": [],
   "source": [
    "j = \"My name \"\n",
    "k = \"is Alex.\"\n",
    "l = \"I am coding \"\n",
    "m = \"in Python\""
   ]
  },
  {
   "cell_type": "code",
   "execution_count": 12,
   "id": "db794ae2",
   "metadata": {},
   "outputs": [
    {
     "data": {
      "text/plain": [
       "'My name is Alex.'"
      ]
     },
     "execution_count": 12,
     "metadata": {},
     "output_type": "execute_result"
    }
   ],
   "source": [
    "j + k"
   ]
  },
  {
   "cell_type": "code",
   "execution_count": 13,
   "id": "fa21ff53",
   "metadata": {},
   "outputs": [
    {
     "data": {
      "text/plain": [
       "'I am coding in Python'"
      ]
     },
     "execution_count": 13,
     "metadata": {},
     "output_type": "execute_result"
    }
   ],
   "source": [
    "l + m"
   ]
  },
  {
   "cell_type": "code",
   "execution_count": 14,
   "id": "c1aa867c",
   "metadata": {},
   "outputs": [],
   "source": [
    "# Bonus\n",
    "n = \"Daft Punk\""
   ]
  },
  {
   "cell_type": "code",
   "execution_count": 15,
   "id": "2edf9122",
   "metadata": {},
   "outputs": [
    {
     "data": {
      "text/plain": [
       "'Daft PunkDaft PunkDaft PunkDaft PunkDaft PunkDaft PunkDaft PunkDaft PunkDaft PunkDaft PunkDaft PunkDaft PunkDaft PunkDaft PunkDaft PunkDaft PunkDaft PunkDaft PunkDaft PunkDaft PunkDaft PunkDaft PunkDaft PunkDaft PunkDaft PunkDaft PunkDaft PunkDaft PunkDaft PunkDaft PunkDaft PunkDaft PunkDaft PunkDaft PunkDaft PunkDaft PunkDaft PunkDaft PunkDaft PunkDaft PunkDaft PunkDaft PunkDaft PunkDaft PunkDaft PunkDaft PunkDaft PunkDaft PunkDaft PunkDaft PunkDaft PunkDaft PunkDaft PunkDaft PunkDaft PunkDaft PunkDaft PunkDaft PunkDaft PunkDaft PunkDaft PunkDaft PunkDaft PunkDaft PunkDaft PunkDaft PunkDaft PunkDaft PunkDaft PunkDaft PunkDaft PunkDaft PunkDaft PunkDaft PunkDaft PunkDaft PunkDaft PunkDaft PunkDaft PunkDaft PunkDaft PunkDaft PunkDaft PunkDaft PunkDaft PunkDaft PunkDaft PunkDaft PunkDaft PunkDaft PunkDaft PunkDaft PunkDaft PunkDaft PunkDaft PunkDaft PunkDaft PunkDaft PunkDaft PunkDaft Punk'"
      ]
     },
     "execution_count": 15,
     "metadata": {},
     "output_type": "execute_result"
    }
   ],
   "source": [
    "n * 100"
   ]
  },
  {
   "cell_type": "code",
   "execution_count": null,
   "id": "a0608682",
   "metadata": {},
   "outputs": [],
   "source": []
  }
 ],
 "metadata": {
  "kernelspec": {
   "display_name": "Python 3 (ipykernel)",
   "language": "python",
   "name": "python3"
  },
  "language_info": {
   "codemirror_mode": {
    "name": "ipython",
    "version": 3
   },
   "file_extension": ".py",
   "mimetype": "text/x-python",
   "name": "python",
   "nbconvert_exporter": "python",
   "pygments_lexer": "ipython3",
   "version": "3.11.3"
  }
 },
 "nbformat": 4,
 "nbformat_minor": 5
}
