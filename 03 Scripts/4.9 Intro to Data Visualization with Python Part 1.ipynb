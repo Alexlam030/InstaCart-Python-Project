{
 "cells": [
  {
   "cell_type": "markdown",
   "id": "8f7c213c",
   "metadata": {},
   "source": [
    "# Part 1"
   ]
  },
  {
   "cell_type": "code",
   "execution_count": 1,
   "id": "d5b77cb7",
   "metadata": {},
   "outputs": [],
   "source": [
    "#importing libraries\n",
    "import pandas as pd\n",
    "import numpy as np\n",
    "import os\n",
    "import matplotlib.pyplot as plt\n",
    "import seaborn as sns\n",
    "import scipy"
   ]
  },
  {
   "cell_type": "code",
   "execution_count": 2,
   "id": "ea9118db",
   "metadata": {},
   "outputs": [],
   "source": [
    "#Creating path string\n",
    "path = r'C:\\Users\\Alex Lam\\Desktop\\Career Foundary\\04 Instacart Project'"
   ]
  },
  {
   "cell_type": "markdown",
   "id": "65f91064",
   "metadata": {},
   "source": [
    "## Importing Data"
   ]
  },
  {
   "cell_type": "code",
   "execution_count": 3,
   "id": "20c2afa5",
   "metadata": {},
   "outputs": [],
   "source": [
    "#3.\n",
    "#Importing df_customers dataframe\n",
    "df_customers = pd.read_csv(os.path.join(path, '02 Data', 'Original Data', 'customers.csv'))"
   ]
  },
  {
   "cell_type": "code",
   "execution_count": 4,
   "id": "21155971",
   "metadata": {},
   "outputs": [],
   "source": [
    "df_user_stats = pd.read_pickle(os.path.join(path, '02 Data', 'Prepared Data', 'user_stats_cleaned.pkl'))"
   ]
  },
  {
   "cell_type": "code",
   "execution_count": 5,
   "id": "eee5657c",
   "metadata": {},
   "outputs": [],
   "source": [
    "df_orders_products = pd.read_pickle(os.path.join(path, '02 Data', 'Prepared Data', 'orders_products_merged_cleaned_user_info.pkl'))"
   ]
  },
  {
   "cell_type": "markdown",
   "id": "8fd87a82",
   "metadata": {},
   "source": [
    "## Data Wrangling"
   ]
  },
  {
   "cell_type": "code",
   "execution_count": 6,
   "id": "21b39836",
   "metadata": {},
   "outputs": [
    {
     "data": {
      "text/html": [
       "<div>\n",
       "<style scoped>\n",
       "    .dataframe tbody tr th:only-of-type {\n",
       "        vertical-align: middle;\n",
       "    }\n",
       "\n",
       "    .dataframe tbody tr th {\n",
       "        vertical-align: top;\n",
       "    }\n",
       "\n",
       "    .dataframe thead th {\n",
       "        text-align: right;\n",
       "    }\n",
       "</style>\n",
       "<table border=\"1\" class=\"dataframe\">\n",
       "  <thead>\n",
       "    <tr style=\"text-align: right;\">\n",
       "      <th></th>\n",
       "      <th>user_id</th>\n",
       "      <th>First Name</th>\n",
       "      <th>Surnam</th>\n",
       "      <th>Gender</th>\n",
       "      <th>STATE</th>\n",
       "      <th>Age</th>\n",
       "      <th>date_joined</th>\n",
       "      <th>n_dependants</th>\n",
       "      <th>fam_status</th>\n",
       "      <th>income</th>\n",
       "    </tr>\n",
       "  </thead>\n",
       "  <tbody>\n",
       "    <tr>\n",
       "      <th>0</th>\n",
       "      <td>26711</td>\n",
       "      <td>Deborah</td>\n",
       "      <td>Esquivel</td>\n",
       "      <td>Female</td>\n",
       "      <td>Missouri</td>\n",
       "      <td>48</td>\n",
       "      <td>1/1/2017</td>\n",
       "      <td>3</td>\n",
       "      <td>married</td>\n",
       "      <td>165665</td>\n",
       "    </tr>\n",
       "    <tr>\n",
       "      <th>1</th>\n",
       "      <td>33890</td>\n",
       "      <td>Patricia</td>\n",
       "      <td>Hart</td>\n",
       "      <td>Female</td>\n",
       "      <td>New Mexico</td>\n",
       "      <td>36</td>\n",
       "      <td>1/1/2017</td>\n",
       "      <td>0</td>\n",
       "      <td>single</td>\n",
       "      <td>59285</td>\n",
       "    </tr>\n",
       "    <tr>\n",
       "      <th>2</th>\n",
       "      <td>65803</td>\n",
       "      <td>Kenneth</td>\n",
       "      <td>Farley</td>\n",
       "      <td>Male</td>\n",
       "      <td>Idaho</td>\n",
       "      <td>35</td>\n",
       "      <td>1/1/2017</td>\n",
       "      <td>2</td>\n",
       "      <td>married</td>\n",
       "      <td>99568</td>\n",
       "    </tr>\n",
       "    <tr>\n",
       "      <th>3</th>\n",
       "      <td>125935</td>\n",
       "      <td>Michelle</td>\n",
       "      <td>Hicks</td>\n",
       "      <td>Female</td>\n",
       "      <td>Iowa</td>\n",
       "      <td>40</td>\n",
       "      <td>1/1/2017</td>\n",
       "      <td>0</td>\n",
       "      <td>single</td>\n",
       "      <td>42049</td>\n",
       "    </tr>\n",
       "    <tr>\n",
       "      <th>4</th>\n",
       "      <td>130797</td>\n",
       "      <td>Ann</td>\n",
       "      <td>Gilmore</td>\n",
       "      <td>Female</td>\n",
       "      <td>Maryland</td>\n",
       "      <td>26</td>\n",
       "      <td>1/1/2017</td>\n",
       "      <td>1</td>\n",
       "      <td>married</td>\n",
       "      <td>40374</td>\n",
       "    </tr>\n",
       "  </tbody>\n",
       "</table>\n",
       "</div>"
      ],
      "text/plain": [
       "   user_id First Name    Surnam  Gender       STATE  Age date_joined  \\\n",
       "0    26711    Deborah  Esquivel  Female    Missouri   48    1/1/2017   \n",
       "1    33890   Patricia      Hart  Female  New Mexico   36    1/1/2017   \n",
       "2    65803    Kenneth    Farley    Male       Idaho   35    1/1/2017   \n",
       "3   125935   Michelle     Hicks  Female        Iowa   40    1/1/2017   \n",
       "4   130797        Ann   Gilmore  Female    Maryland   26    1/1/2017   \n",
       "\n",
       "   n_dependants fam_status  income  \n",
       "0             3    married  165665  \n",
       "1             0     single   59285  \n",
       "2             2    married   99568  \n",
       "3             0     single   42049  \n",
       "4             1    married   40374  "
      ]
     },
     "execution_count": 6,
     "metadata": {},
     "output_type": "execute_result"
    }
   ],
   "source": [
    "#4.\n",
    "#Learning about and learning about dataset for data wrangling purposes\n",
    "df_customers.head()"
   ]
  },
  {
   "cell_type": "code",
   "execution_count": 7,
   "id": "b276ea00",
   "metadata": {},
   "outputs": [
    {
     "data": {
      "text/plain": [
       "(206209, 10)"
      ]
     },
     "execution_count": 7,
     "metadata": {},
     "output_type": "execute_result"
    }
   ],
   "source": [
    "df_customers.shape"
   ]
  },
  {
   "cell_type": "markdown",
   "id": "9b7f9853",
   "metadata": {},
   "source": [
    "Wrangling data will include the some of the following processes: \n",
    "\n",
    "Dropping columns\n",
    "Renaming columns\n",
    "Changing data types\n",
    "Transposing  data\n",
    "\n",
    "The following questions will be used to determine how data wrangling will occur.\n",
    "\n",
    "Are there differences in ordering habits based on a customer’s loyalty status?\n",
    "Are there differences in ordering habits based on a customer’s region?\n",
    "Is there a connection between age and family status in terms of ordering habits?\n",
    "What different classifications does the demographic information suggest? Age? Income? Certain types of goods? Family status?\n",
    "\n",
    "Based on the questions above the following columns will be deleted: First Name, Surnam, Gender, date_joined\n",
    "\n",
    "n_dependants will be renamed to num_dependants for clarification"
   ]
  },
  {
   "cell_type": "code",
   "execution_count": 8,
   "id": "0d1d0d2d",
   "metadata": {},
   "outputs": [],
   "source": [
    "#Dropping columns and creating new dataframe \n",
    "df_drop_customers = df_customers.drop(columns = ['First Name', 'Surnam', 'Gender', 'date_joined'])"
   ]
  },
  {
   "cell_type": "code",
   "execution_count": 9,
   "id": "5f310335",
   "metadata": {},
   "outputs": [
    {
     "data": {
      "text/plain": [
       "Index(['user_id', 'STATE', 'Age', 'n_dependants', 'fam_status', 'income'], dtype='object')"
      ]
     },
     "execution_count": 9,
     "metadata": {},
     "output_type": "execute_result"
    }
   ],
   "source": [
    "#Testing drop columns\n",
    "df_drop_customers.columns"
   ]
  },
  {
   "cell_type": "code",
   "execution_count": 10,
   "id": "dc203ace",
   "metadata": {},
   "outputs": [],
   "source": [
    "#Changing n_dependants column name\n",
    "df_drop_customers.rename(columns = {'n_dependants' : 'num_dependants'}, inplace = True)"
   ]
  },
  {
   "cell_type": "code",
   "execution_count": 11,
   "id": "8ca6b870",
   "metadata": {
    "scrolled": true
   },
   "outputs": [
    {
     "data": {
      "text/plain": [
       "Index(['user_id', 'STATE', 'Age', 'num_dependants', 'fam_status', 'income'], dtype='object')"
      ]
     },
     "execution_count": 11,
     "metadata": {},
     "output_type": "execute_result"
    }
   ],
   "source": [
    "#Testing column name change\n",
    "df_drop_customers.columns"
   ]
  },
  {
   "cell_type": "markdown",
   "id": "50495c6a",
   "metadata": {},
   "source": [
    "## Cleaning Data"
   ]
  },
  {
   "cell_type": "markdown",
   "id": "5085ed61",
   "metadata": {},
   "source": [
    "Data will need to be cleaned. The following issues will be dealt with: mixed-type data, missing data, and duplicates."
   ]
  },
  {
   "cell_type": "code",
   "execution_count": 12,
   "id": "159c2c3e",
   "metadata": {},
   "outputs": [
    {
     "name": "stdout",
     "output_type": "stream",
     "text": [
      "No mix\n"
     ]
    }
   ],
   "source": [
    "#5.\n",
    "#Checking for mixed type data\n",
    "for col in df_drop_customers.columns.tolist():\n",
    "  weird = (df_drop_customers[[col]].applymap(type) != df_drop_customers[[col]].iloc[0].apply(type)).any(axis = 1)\n",
    "  if len (df_drop_customers[weird]) > 0: \n",
    "        print (col)\n",
    "else: print('No mix')"
   ]
  },
  {
   "cell_type": "code",
   "execution_count": 13,
   "id": "72cbbe6b",
   "metadata": {},
   "outputs": [
    {
     "data": {
      "text/plain": [
       "user_id           0\n",
       "STATE             0\n",
       "Age               0\n",
       "num_dependants    0\n",
       "fam_status        0\n",
       "income            0\n",
       "dtype: int64"
      ]
     },
     "execution_count": 13,
     "metadata": {},
     "output_type": "execute_result"
    }
   ],
   "source": [
    "#Checking for missing data\n",
    "df_drop_customers.isnull().sum()"
   ]
  },
  {
   "cell_type": "code",
   "execution_count": 14,
   "id": "26ef37a9",
   "metadata": {},
   "outputs": [],
   "source": [
    "#Checking for duplicates\n",
    "#Creating dataframe for duplicates\n",
    "df_drop_dups_customers = df_drop_customers[df_drop_customers.duplicated()]"
   ]
  },
  {
   "cell_type": "code",
   "execution_count": 15,
   "id": "4ec120e6",
   "metadata": {},
   "outputs": [
    {
     "data": {
      "text/html": [
       "<div>\n",
       "<style scoped>\n",
       "    .dataframe tbody tr th:only-of-type {\n",
       "        vertical-align: middle;\n",
       "    }\n",
       "\n",
       "    .dataframe tbody tr th {\n",
       "        vertical-align: top;\n",
       "    }\n",
       "\n",
       "    .dataframe thead th {\n",
       "        text-align: right;\n",
       "    }\n",
       "</style>\n",
       "<table border=\"1\" class=\"dataframe\">\n",
       "  <thead>\n",
       "    <tr style=\"text-align: right;\">\n",
       "      <th></th>\n",
       "      <th>user_id</th>\n",
       "      <th>STATE</th>\n",
       "      <th>Age</th>\n",
       "      <th>num_dependants</th>\n",
       "      <th>fam_status</th>\n",
       "      <th>income</th>\n",
       "    </tr>\n",
       "  </thead>\n",
       "  <tbody>\n",
       "  </tbody>\n",
       "</table>\n",
       "</div>"
      ],
      "text/plain": [
       "Empty DataFrame\n",
       "Columns: [user_id, STATE, Age, num_dependants, fam_status, income]\n",
       "Index: []"
      ]
     },
     "execution_count": 15,
     "metadata": {},
     "output_type": "execute_result"
    }
   ],
   "source": [
    "#Testing duplicate dataframe\n",
    "df_drop_dups_customers"
   ]
  },
  {
   "cell_type": "markdown",
   "id": "72758be8",
   "metadata": {},
   "source": [
    "There is no mixed-data types, missing values, or duplicate value."
   ]
  },
  {
   "cell_type": "markdown",
   "id": "7a39ae05",
   "metadata": {},
   "source": [
    "## Joining Dataframes"
   ]
  },
  {
   "cell_type": "code",
   "execution_count": 16,
   "id": "de5971ac",
   "metadata": {},
   "outputs": [
    {
     "name": "stdout",
     "output_type": "stream",
     "text": [
      "<class 'pandas.core.frame.DataFrame'>\n",
      "RangeIndex: 206209 entries, 0 to 206208\n",
      "Data columns (total 6 columns):\n",
      " #   Column          Non-Null Count   Dtype \n",
      "---  ------          --------------   ----- \n",
      " 0   user_id         206209 non-null  int64 \n",
      " 1   STATE           206209 non-null  object\n",
      " 2   Age             206209 non-null  int64 \n",
      " 3   num_dependants  206209 non-null  int64 \n",
      " 4   fam_status      206209 non-null  object\n",
      " 5   income          206209 non-null  int64 \n",
      "dtypes: int64(4), object(2)\n",
      "memory usage: 9.4+ MB\n"
     ]
    }
   ],
   "source": [
    "#6.\n",
    "#Will need to merge df_drop_customers dataframe one of of the previous dataframes\n",
    "#Seeing what data types are being used for df_drop_customers\n",
    "df_drop_customers.info()"
   ]
  },
  {
   "cell_type": "code",
   "execution_count": 17,
   "id": "94d21adc",
   "metadata": {},
   "outputs": [
    {
     "name": "stdout",
     "output_type": "stream",
     "text": [
      "<class 'pandas.core.frame.DataFrame'>\n",
      "Int64Index: 206209 entries, 1 to 206209\n",
      "Data columns (total 4 columns):\n",
      " #   Column                  Non-Null Count   Dtype  \n",
      "---  ------                  --------------   -----  \n",
      " 0   (price_avg, )           206209 non-null  float64\n",
      " 1   (spending_avg, )        206209 non-null  object \n",
      " 2   (frequency_mean, )      206209 non-null  float64\n",
      " 3   (customer_frequency, )  206209 non-null  object \n",
      "dtypes: float64(2), object(2)\n",
      "memory usage: 7.9+ MB\n"
     ]
    }
   ],
   "source": [
    "df_user_stats.info()"
   ]
  },
  {
   "cell_type": "code",
   "execution_count": 18,
   "id": "61fa51de",
   "metadata": {},
   "outputs": [
    {
     "data": {
      "text/html": [
       "<div>\n",
       "<style scoped>\n",
       "    .dataframe tbody tr th:only-of-type {\n",
       "        vertical-align: middle;\n",
       "    }\n",
       "\n",
       "    .dataframe tbody tr th {\n",
       "        vertical-align: top;\n",
       "    }\n",
       "\n",
       "    .dataframe thead tr th {\n",
       "        text-align: left;\n",
       "    }\n",
       "\n",
       "    .dataframe thead tr:last-of-type th {\n",
       "        text-align: right;\n",
       "    }\n",
       "</style>\n",
       "<table border=\"1\" class=\"dataframe\">\n",
       "  <thead>\n",
       "    <tr>\n",
       "      <th></th>\n",
       "      <th>price_avg</th>\n",
       "      <th>spending_avg</th>\n",
       "      <th>frequency_mean</th>\n",
       "      <th>customer_frequency</th>\n",
       "    </tr>\n",
       "    <tr>\n",
       "      <th></th>\n",
       "      <th></th>\n",
       "      <th></th>\n",
       "      <th></th>\n",
       "      <th></th>\n",
       "    </tr>\n",
       "    <tr>\n",
       "      <th>user_id</th>\n",
       "      <th></th>\n",
       "      <th></th>\n",
       "      <th></th>\n",
       "      <th></th>\n",
       "    </tr>\n",
       "  </thead>\n",
       "  <tbody>\n",
       "    <tr>\n",
       "      <th>1</th>\n",
       "      <td>6.367797</td>\n",
       "      <td>Low spender</td>\n",
       "      <td>18.542373</td>\n",
       "      <td>Regular customer</td>\n",
       "    </tr>\n",
       "    <tr>\n",
       "      <th>2</th>\n",
       "      <td>7.515897</td>\n",
       "      <td>Low spender</td>\n",
       "      <td>14.902564</td>\n",
       "      <td>Regular customer</td>\n",
       "    </tr>\n",
       "    <tr>\n",
       "      <th>3</th>\n",
       "      <td>8.197727</td>\n",
       "      <td>Low spender</td>\n",
       "      <td>10.181818</td>\n",
       "      <td>Regular customer</td>\n",
       "    </tr>\n",
       "    <tr>\n",
       "      <th>4</th>\n",
       "      <td>8.205556</td>\n",
       "      <td>Low spender</td>\n",
       "      <td>11.944444</td>\n",
       "      <td>Regular customer</td>\n",
       "    </tr>\n",
       "    <tr>\n",
       "      <th>5</th>\n",
       "      <td>9.189189</td>\n",
       "      <td>Low spender</td>\n",
       "      <td>10.189189</td>\n",
       "      <td>Regular customer</td>\n",
       "    </tr>\n",
       "  </tbody>\n",
       "</table>\n",
       "</div>"
      ],
      "text/plain": [
       "        price_avg spending_avg frequency_mean customer_frequency\n",
       "                                                                \n",
       "user_id                                                         \n",
       "1        6.367797  Low spender      18.542373   Regular customer\n",
       "2        7.515897  Low spender      14.902564   Regular customer\n",
       "3        8.197727  Low spender      10.181818   Regular customer\n",
       "4        8.205556  Low spender      11.944444   Regular customer\n",
       "5        9.189189  Low spender      10.189189   Regular customer"
      ]
     },
     "execution_count": 18,
     "metadata": {},
     "output_type": "execute_result"
    }
   ],
   "source": [
    "df_user_stats.head()"
   ]
  },
  {
   "cell_type": "code",
   "execution_count": 19,
   "id": "4bbb0bf7",
   "metadata": {},
   "outputs": [
    {
     "name": "stdout",
     "output_type": "stream",
     "text": [
      "<class 'pandas.core.frame.DataFrame'>\n",
      "Int64Index: 32434212 entries, 0 to 32434211\n",
      "Data columns (total 19 columns):\n",
      " #   Column                  Dtype  \n",
      "---  ------                  -----  \n",
      " 0   order_id                int64  \n",
      " 1   user_id                 int64  \n",
      " 2   eval_set                object \n",
      " 3   order_number            int64  \n",
      " 4   orders_day_of_week      int64  \n",
      " 5   order_hour_of_day       int64  \n",
      " 6   days_since_prior_order  float64\n",
      " 7   product_id              int64  \n",
      " 8   add_to_cart_order       int64  \n",
      " 9   reordered               int64  \n",
      " 10  product_name            object \n",
      " 11  aisle_id                int64  \n",
      " 12  department_id           int64  \n",
      " 13  prices                  float64\n",
      " 14  busiest_day             object \n",
      " 15  busiest_days            object \n",
      " 16  busiest_period_of_day   object \n",
      " 17  max_order               int64  \n",
      " 18  loyalty_flag            object \n",
      "dtypes: float64(2), int64(11), object(6)\n",
      "memory usage: 4.8+ GB\n"
     ]
    }
   ],
   "source": [
    "df_orders_products.info()"
   ]
  },
  {
   "cell_type": "code",
   "execution_count": 20,
   "id": "3cb3aa72",
   "metadata": {},
   "outputs": [
    {
     "data": {
      "text/html": [
       "<div>\n",
       "<style scoped>\n",
       "    .dataframe tbody tr th:only-of-type {\n",
       "        vertical-align: middle;\n",
       "    }\n",
       "\n",
       "    .dataframe tbody tr th {\n",
       "        vertical-align: top;\n",
       "    }\n",
       "\n",
       "    .dataframe thead th {\n",
       "        text-align: right;\n",
       "    }\n",
       "</style>\n",
       "<table border=\"1\" class=\"dataframe\">\n",
       "  <thead>\n",
       "    <tr style=\"text-align: right;\">\n",
       "      <th></th>\n",
       "      <th>order_id</th>\n",
       "      <th>user_id</th>\n",
       "      <th>eval_set</th>\n",
       "      <th>order_number</th>\n",
       "      <th>orders_day_of_week</th>\n",
       "      <th>order_hour_of_day</th>\n",
       "      <th>days_since_prior_order</th>\n",
       "      <th>product_id</th>\n",
       "      <th>add_to_cart_order</th>\n",
       "      <th>reordered</th>\n",
       "      <th>product_name</th>\n",
       "      <th>aisle_id</th>\n",
       "      <th>department_id</th>\n",
       "      <th>prices</th>\n",
       "      <th>busiest_day</th>\n",
       "      <th>busiest_days</th>\n",
       "      <th>busiest_period_of_day</th>\n",
       "      <th>max_order</th>\n",
       "      <th>loyalty_flag</th>\n",
       "    </tr>\n",
       "  </thead>\n",
       "  <tbody>\n",
       "    <tr>\n",
       "      <th>0</th>\n",
       "      <td>2539329</td>\n",
       "      <td>1</td>\n",
       "      <td>prior</td>\n",
       "      <td>1</td>\n",
       "      <td>2</td>\n",
       "      <td>8</td>\n",
       "      <td>0.0</td>\n",
       "      <td>196</td>\n",
       "      <td>1</td>\n",
       "      <td>0</td>\n",
       "      <td>Soda</td>\n",
       "      <td>77</td>\n",
       "      <td>7</td>\n",
       "      <td>9.0</td>\n",
       "      <td>Regularly busy</td>\n",
       "      <td>Regularly busy</td>\n",
       "      <td>Average orders</td>\n",
       "      <td>10</td>\n",
       "      <td>New customer</td>\n",
       "    </tr>\n",
       "    <tr>\n",
       "      <th>1</th>\n",
       "      <td>2398795</td>\n",
       "      <td>1</td>\n",
       "      <td>prior</td>\n",
       "      <td>2</td>\n",
       "      <td>3</td>\n",
       "      <td>7</td>\n",
       "      <td>15.0</td>\n",
       "      <td>196</td>\n",
       "      <td>1</td>\n",
       "      <td>1</td>\n",
       "      <td>Soda</td>\n",
       "      <td>77</td>\n",
       "      <td>7</td>\n",
       "      <td>9.0</td>\n",
       "      <td>Regularly busy</td>\n",
       "      <td>Least busiest days</td>\n",
       "      <td>Average orders</td>\n",
       "      <td>10</td>\n",
       "      <td>New customer</td>\n",
       "    </tr>\n",
       "    <tr>\n",
       "      <th>2</th>\n",
       "      <td>473747</td>\n",
       "      <td>1</td>\n",
       "      <td>prior</td>\n",
       "      <td>3</td>\n",
       "      <td>3</td>\n",
       "      <td>12</td>\n",
       "      <td>21.0</td>\n",
       "      <td>196</td>\n",
       "      <td>1</td>\n",
       "      <td>1</td>\n",
       "      <td>Soda</td>\n",
       "      <td>77</td>\n",
       "      <td>7</td>\n",
       "      <td>9.0</td>\n",
       "      <td>Regularly busy</td>\n",
       "      <td>Least busiest days</td>\n",
       "      <td>Most orders</td>\n",
       "      <td>10</td>\n",
       "      <td>New customer</td>\n",
       "    </tr>\n",
       "    <tr>\n",
       "      <th>3</th>\n",
       "      <td>2254736</td>\n",
       "      <td>1</td>\n",
       "      <td>prior</td>\n",
       "      <td>4</td>\n",
       "      <td>4</td>\n",
       "      <td>7</td>\n",
       "      <td>29.0</td>\n",
       "      <td>196</td>\n",
       "      <td>1</td>\n",
       "      <td>1</td>\n",
       "      <td>Soda</td>\n",
       "      <td>77</td>\n",
       "      <td>7</td>\n",
       "      <td>9.0</td>\n",
       "      <td>Least busy</td>\n",
       "      <td>Least busiest days</td>\n",
       "      <td>Average orders</td>\n",
       "      <td>10</td>\n",
       "      <td>New customer</td>\n",
       "    </tr>\n",
       "    <tr>\n",
       "      <th>4</th>\n",
       "      <td>431534</td>\n",
       "      <td>1</td>\n",
       "      <td>prior</td>\n",
       "      <td>5</td>\n",
       "      <td>4</td>\n",
       "      <td>15</td>\n",
       "      <td>28.0</td>\n",
       "      <td>196</td>\n",
       "      <td>1</td>\n",
       "      <td>1</td>\n",
       "      <td>Soda</td>\n",
       "      <td>77</td>\n",
       "      <td>7</td>\n",
       "      <td>9.0</td>\n",
       "      <td>Least busy</td>\n",
       "      <td>Least busiest days</td>\n",
       "      <td>Most orders</td>\n",
       "      <td>10</td>\n",
       "      <td>New customer</td>\n",
       "    </tr>\n",
       "  </tbody>\n",
       "</table>\n",
       "</div>"
      ],
      "text/plain": [
       "   order_id  user_id eval_set  order_number  orders_day_of_week  \\\n",
       "0   2539329        1    prior             1                   2   \n",
       "1   2398795        1    prior             2                   3   \n",
       "2    473747        1    prior             3                   3   \n",
       "3   2254736        1    prior             4                   4   \n",
       "4    431534        1    prior             5                   4   \n",
       "\n",
       "   order_hour_of_day  days_since_prior_order  product_id  add_to_cart_order  \\\n",
       "0                  8                     0.0         196                  1   \n",
       "1                  7                    15.0         196                  1   \n",
       "2                 12                    21.0         196                  1   \n",
       "3                  7                    29.0         196                  1   \n",
       "4                 15                    28.0         196                  1   \n",
       "\n",
       "   reordered product_name  aisle_id  department_id  prices     busiest_day  \\\n",
       "0          0         Soda        77              7     9.0  Regularly busy   \n",
       "1          1         Soda        77              7     9.0  Regularly busy   \n",
       "2          1         Soda        77              7     9.0  Regularly busy   \n",
       "3          1         Soda        77              7     9.0      Least busy   \n",
       "4          1         Soda        77              7     9.0      Least busy   \n",
       "\n",
       "         busiest_days busiest_period_of_day  max_order  loyalty_flag  \n",
       "0      Regularly busy        Average orders         10  New customer  \n",
       "1  Least busiest days        Average orders         10  New customer  \n",
       "2  Least busiest days           Most orders         10  New customer  \n",
       "3  Least busiest days        Average orders         10  New customer  \n",
       "4  Least busiest days           Most orders         10  New customer  "
      ]
     },
     "execution_count": 20,
     "metadata": {},
     "output_type": "execute_result"
    }
   ],
   "source": [
    "df_orders_products.head()"
   ]
  },
  {
   "cell_type": "code",
   "execution_count": 21,
   "id": "51d63d9c",
   "metadata": {},
   "outputs": [
    {
     "name": "stderr",
     "output_type": "stream",
     "text": [
      "C:\\Users\\Alex Lam\\AppData\\Local\\Temp\\ipykernel_11500\\147520106.py:3: FutureWarning: merging between different levels is deprecated and will be removed in a future version. (2 levels on the left, 1 on the right)\n",
      "  df_user_stats_customers_merged = df_user_stats.merge(df_drop_customers, on = 'user_id')\n"
     ]
    }
   ],
   "source": [
    "#Joining df_user_stats and df_drop_customers on user_id\n",
    "#These two dataframes are being joined instead of df_orders_products, since the two former have only singular instants of user_id, where as the later has the same user_id appear multiple times \n",
    "df_user_stats_customers_merged = df_user_stats.merge(df_drop_customers, on = 'user_id')"
   ]
  },
  {
   "cell_type": "code",
   "execution_count": 22,
   "id": "1964b686",
   "metadata": {
    "scrolled": false
   },
   "outputs": [
    {
     "data": {
      "text/html": [
       "<div>\n",
       "<style scoped>\n",
       "    .dataframe tbody tr th:only-of-type {\n",
       "        vertical-align: middle;\n",
       "    }\n",
       "\n",
       "    .dataframe tbody tr th {\n",
       "        vertical-align: top;\n",
       "    }\n",
       "\n",
       "    .dataframe thead th {\n",
       "        text-align: right;\n",
       "    }\n",
       "</style>\n",
       "<table border=\"1\" class=\"dataframe\">\n",
       "  <thead>\n",
       "    <tr style=\"text-align: right;\">\n",
       "      <th></th>\n",
       "      <th>user_id</th>\n",
       "      <th>(price_avg, )</th>\n",
       "      <th>(spending_avg, )</th>\n",
       "      <th>(frequency_mean, )</th>\n",
       "      <th>(customer_frequency, )</th>\n",
       "      <th>STATE</th>\n",
       "      <th>Age</th>\n",
       "      <th>num_dependants</th>\n",
       "      <th>fam_status</th>\n",
       "      <th>income</th>\n",
       "    </tr>\n",
       "  </thead>\n",
       "  <tbody>\n",
       "    <tr>\n",
       "      <th>0</th>\n",
       "      <td>1</td>\n",
       "      <td>6.367797</td>\n",
       "      <td>Low spender</td>\n",
       "      <td>18.542373</td>\n",
       "      <td>Regular customer</td>\n",
       "      <td>Alabama</td>\n",
       "      <td>31</td>\n",
       "      <td>3</td>\n",
       "      <td>married</td>\n",
       "      <td>40423</td>\n",
       "    </tr>\n",
       "    <tr>\n",
       "      <th>1</th>\n",
       "      <td>2</td>\n",
       "      <td>7.515897</td>\n",
       "      <td>Low spender</td>\n",
       "      <td>14.902564</td>\n",
       "      <td>Regular customer</td>\n",
       "      <td>Alaska</td>\n",
       "      <td>68</td>\n",
       "      <td>3</td>\n",
       "      <td>married</td>\n",
       "      <td>64940</td>\n",
       "    </tr>\n",
       "    <tr>\n",
       "      <th>2</th>\n",
       "      <td>3</td>\n",
       "      <td>8.197727</td>\n",
       "      <td>Low spender</td>\n",
       "      <td>10.181818</td>\n",
       "      <td>Regular customer</td>\n",
       "      <td>Arizona</td>\n",
       "      <td>33</td>\n",
       "      <td>3</td>\n",
       "      <td>married</td>\n",
       "      <td>93240</td>\n",
       "    </tr>\n",
       "    <tr>\n",
       "      <th>3</th>\n",
       "      <td>4</td>\n",
       "      <td>8.205556</td>\n",
       "      <td>Low spender</td>\n",
       "      <td>11.944444</td>\n",
       "      <td>Regular customer</td>\n",
       "      <td>Arkansas</td>\n",
       "      <td>31</td>\n",
       "      <td>3</td>\n",
       "      <td>married</td>\n",
       "      <td>45435</td>\n",
       "    </tr>\n",
       "    <tr>\n",
       "      <th>4</th>\n",
       "      <td>5</td>\n",
       "      <td>9.189189</td>\n",
       "      <td>Low spender</td>\n",
       "      <td>10.189189</td>\n",
       "      <td>Regular customer</td>\n",
       "      <td>California</td>\n",
       "      <td>75</td>\n",
       "      <td>0</td>\n",
       "      <td>divorced/widowed</td>\n",
       "      <td>115242</td>\n",
       "    </tr>\n",
       "  </tbody>\n",
       "</table>\n",
       "</div>"
      ],
      "text/plain": [
       "   user_id  (price_avg, ) (spending_avg, )  (frequency_mean, )  \\\n",
       "0        1       6.367797      Low spender           18.542373   \n",
       "1        2       7.515897      Low spender           14.902564   \n",
       "2        3       8.197727      Low spender           10.181818   \n",
       "3        4       8.205556      Low spender           11.944444   \n",
       "4        5       9.189189      Low spender           10.189189   \n",
       "\n",
       "  (customer_frequency, )       STATE  Age  num_dependants        fam_status  \\\n",
       "0       Regular customer     Alabama   31               3           married   \n",
       "1       Regular customer      Alaska   68               3           married   \n",
       "2       Regular customer     Arizona   33               3           married   \n",
       "3       Regular customer    Arkansas   31               3           married   \n",
       "4       Regular customer  California   75               0  divorced/widowed   \n",
       "\n",
       "   income  \n",
       "0   40423  \n",
       "1   64940  \n",
       "2   93240  \n",
       "3   45435  \n",
       "4  115242  "
      ]
     },
     "execution_count": 22,
     "metadata": {},
     "output_type": "execute_result"
    }
   ],
   "source": [
    "#Testing new dataframe\n",
    "df_user_stats_customers_merged.head()"
   ]
  },
  {
   "cell_type": "markdown",
   "id": "ebe1f37e",
   "metadata": {},
   "source": [
    "## Exporting Dataframe and Additional Changes"
   ]
  },
  {
   "cell_type": "code",
   "execution_count": 23,
   "id": "1253b023",
   "metadata": {},
   "outputs": [],
   "source": [
    "#Renaming columns in new df_user_stats_customers_merged dataframe\n",
    "df_user_stats_customers_merged.rename(columns = {('price_avg', '') : 'price_avg', ('spending_avg', '') : 'spending_avg', ('frequency_mean', '') : 'frequency_mean', ('customer_frequency', '') : 'customer_frequency',}, inplace = True)"
   ]
  },
  {
   "cell_type": "code",
   "execution_count": 24,
   "id": "4b49da37",
   "metadata": {},
   "outputs": [
    {
     "data": {
      "text/plain": [
       "Index(['user_id', 'price_avg', 'spending_avg', 'frequency_mean',\n",
       "       'customer_frequency', 'STATE', 'Age', 'num_dependants', 'fam_status',\n",
       "       'income'],\n",
       "      dtype='object')"
      ]
     },
     "execution_count": 24,
     "metadata": {},
     "output_type": "execute_result"
    }
   ],
   "source": [
    "#Checking results of column name change\n",
    "df_user_stats_customers_merged.columns"
   ]
  },
  {
   "cell_type": "code",
   "execution_count": 25,
   "id": "aa4d84f8",
   "metadata": {},
   "outputs": [],
   "source": [
    "#Exporting df_user_stats_customers_merged to pickle file\n",
    "df_user_stats_customers_merged.to_pickle(os.path.join(path, '02 Data','Prepared Data', 'user_stats_customers_merged.pkl'))"
   ]
  },
  {
   "cell_type": "code",
   "execution_count": 26,
   "id": "24c50eaf",
   "metadata": {},
   "outputs": [],
   "source": [
    "#Cleaning up df_orders_products columns\n",
    "df_orders_products_new = df_orders_products.drop(columns = ['eval_set'])"
   ]
  },
  {
   "cell_type": "code",
   "execution_count": 27,
   "id": "67e9d9b0",
   "metadata": {},
   "outputs": [],
   "source": [
    "#Exporting df_orders_products_new to pickle file\n",
    "df_orders_products_new.to_pickle(os.path.join(path, '02 Data','Prepared Data', 'orders_products.pkl'))"
   ]
  }
 ],
 "metadata": {
  "kernelspec": {
   "display_name": "Python 3 (ipykernel)",
   "language": "python",
   "name": "python3"
  },
  "language_info": {
   "codemirror_mode": {
    "name": "ipython",
    "version": 3
   },
   "file_extension": ".py",
   "mimetype": "text/x-python",
   "name": "python",
   "nbconvert_exporter": "python",
   "pygments_lexer": "ipython3",
   "version": "3.11.3"
  }
 },
 "nbformat": 4,
 "nbformat_minor": 5
}
